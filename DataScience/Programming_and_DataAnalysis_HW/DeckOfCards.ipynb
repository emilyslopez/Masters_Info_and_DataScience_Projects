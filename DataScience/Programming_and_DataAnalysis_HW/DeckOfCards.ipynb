{
 "cells": [
  {
   "cell_type": "markdown",
   "metadata": {},
   "source": [
    "# Deck of Cards  \n",
    "\n",
    "Design two classes as follows:\n",
    "\n",
    "1\\. Please create a class called **PlayingCard**. (20 points)<br>\n",
    "This class should have: <br>\n",
    "- An attribute, \"rank\" that takes a value of \"2\", \"3\", \"4\", \"5\", \"6\", \"7\", \"8\", \"9\", \"10\", \"J\", \"Q\", \"K\", or \"A\"<br>\n",
    "- An attribute, \"suit\" that takes a value of \"♠\" \"♥\" \"♦\" or \"♣\". (If you don't know how to make these characters you can cut and paste from this block)<br>  \n",
    "- An __init__ method that:\n",
    "    -  Accepts as parameters a specific rank (as a string) and suit (as a string).\n",
    "    -  **Raise a TypeError** with \"Invalid rank!\" or \"Invalid suit!\" when a rank or suit is not valid.\n",
    "- The ```__str__``` and ```__repr__``` methods to display the cards correctly (as shown below in the examples)\n",
    "\n",
    "2\\. Please create a class called **Deck**. (30 points)<br>\n",
    "This class should have: <br>\n",
    "- An attribute, \"cards\", that holds a list of PlayingCard objects. <br>\n",
    "- An __init__ method that: \n",
    "\n",
    "    - By default stores a full deck of 52 playing card (with proper numbers and suits) in the \"cards\" list. Each cards will be  of the class PlayingCard above<br>\n",
    "    - Allows the user to specify a specific suit of the 4 (\"♠\" \"♥\" \"♦\" or \"♣\"). In this case, the program should only populate the deck with the 13 cards of that suit.\n",
    "    - After the cards object is initialized, call the \"shuffle_deck()\" function (below).<br>\n",
    "    \n",
    "- A \"shuffle_deck()\" method that randomly changes the order of cards in the deck.<br>\n",
    "    - Import the random library to 'shuffle' the deck: https://docs.python.org/3.9/library/random.html#random.shuffle\n",
    "    - Please import it at the top of your block instead of inside the class / methods.\n",
    "\n",
    "- A \"deal_card(card_count)\" method that:\n",
    "    - **Removes** the first `card_count` cards from the deck and **returns** them as a **list**.<br>\n",
    "    - If the deck doesnt have the `card_count` number of cards left to deal, **return** the message `Cannot deal <x> cards. The deck only has <y> cards left!` (do not raise an exception or print inside the method).\n",
    "    \n",
    "\n",
    "Example:\n",
    "```\n",
    ">>> card1 = PlayingCard(\"A\", \"♠\")\n",
    ">>> print(card1)\n",
    "A of ♠\n",
    "\n",
    ">>> card2 = PlayingCard(\"15\", \"♠\")\n",
    "< error stack >\n",
    "TypeError: Invalid rank!\n",
    "\n",
    ">>> card2 = PlayingCard(\"10\", \"bunnies\")\n",
    "< error stack >\n",
    "TypeError: Invalid suit!\n",
    "\n",
    ">>> deck1 = Deck()\n",
    ">>> print(deck1.cards)\n",
    "[K of ♠, A of ♥, 6 of ♣, 7 of ♠, J of ♦, 6 of ♠, Q of ♦, 5 of ♣, 10 of ♦, 2 of ♥, 8 of ♣, 8 of ♦, 4 of ♦, 7 of ♦, 3 of ♣, K of ♣, 9 of ♠, 4 of ♥, 10 of ♥, 10 of ♣, A of ♠, 9 of ♥, 7 of ♥, 9 of ♣, 7 of ♣, 5 of ♠, 3 of ♦, 10 of ♠, Q of ♥, J of ♣, 5 of ♥, K of ♥, K of ♦, 2 of ♠, 8 of ♠, Q of ♣, 3 of ♠, 6 of ♥, 6 of ♦, A of ♣, A of ♦, 3 of ♥, J of ♠, 4 of ♣, 5 of ♦, 2 of ♦, 4 of ♠, 2 of ♣, Q of ♠, J of ♥, 8 of ♥, 9 of ♦] \n",
    "\n",
    ">>> deck2 = Deck('♠')\n",
    ">>> deck2.shuffle_deck()\n",
    ">>> deck2.cards\n",
    "[A of ♠, 10 of ♠, 3 of ♠, 7 of ♠, 5 of ♠, 4 of ♠, 8 of ♠, J of ♠, 9 of ♠, Q of ♠, 6 of ♠, 2 of ♠, K of ♠]\n",
    "\n",
    ">>> hand = deck2.deal_card(7)\n",
    ">>> hand\n",
    "[A of ♠, 10 of ♠, 3 of ♠, 7 of ♠, 5 of ♠, 4 of ♠, 8 of ♠]\n",
    "\n",
    ">>> deck2.deal_card(7)\n",
    "'Cannot deal 7 cards. The deck only has 6 cards left!'\n",
    "```"
   ]
  },
  {
   "cell_type": "code",
   "execution_count": 1,
   "metadata": {},
   "outputs": [],
   "source": [
    "# Q7-1 Grading Tag:\n",
    "import random\n",
    "\n",
    "class PlayingCard:\n",
    "    \"\"\" Class contains attributes rank (a value of: 2-10,J,Q,K, or A), and suit (a value of \"♠\" \"♥\" \"♦\" or \"♣\"). This class constructs\n",
    "    a playing card with the rank and suit attributes.\"\"\"\n",
    "\n",
    "    valid_rank = [\"2\", \"3\", \"4\", \"5\", \"6\", \"7\", \"8\", \"9\", \"10\", \"J\", \"Q\", \"K\", \"A\"]\n",
    "    valid_suit = [\"♠\", \"♥\", \"♦\", \"♣\"]\n",
    "\n",
    "    def  __init__(self, rank, suit):\n",
    "        \"\"\"Takes a valid rank (as a string) and a valid suit (as a string) and creates a playing card.\"\"\"\n",
    "        self.rank = rank\n",
    "        self.suit = suit\n",
    "\n",
    "        # Checking to make sure the given rank and suit are valid\n",
    "        if rank not in self.valid_rank:\n",
    "            raise TypeError( \"Invalid rank!\")\n",
    "        if suit not in self.valid_suit:\n",
    "            raise TypeError(\"Invalid suit!\")\n",
    "        \n",
    "    def __str__(self):\n",
    "        return f'{self.rank} of {self.suit}'\n",
    "\n",
    "    def __repr__(self):\n",
    "        return f'{self.rank} of {self.suit}'\n",
    "    \n",
    "class Deck:\n",
    "    \"\"\" Class contains an attribute cards that holds a list of PlayingCard objects, \"\"\"\n",
    "\n",
    "    def __init__(self, suit=0):\n",
    "        \"\"\" Creates a deck of playing cards using PlayingCard class. Has the option of constructing a deck\n",
    "        of 13 cards with the user's specific suit (\"♠\" \"♥\" \"♦\" or \"♣\"), otherwise it constructs a full deck of 52\n",
    "        playing cards (with proper numbers and suits). Calls the shuffle_deck() method after initializing the cards object.\"\"\"\n",
    "        self.suit = suit\n",
    "\n",
    "        # Default to 52 cards (suit == 0) but if given a suit then create the deck of 13 cards with that suit\n",
    "        if suit == 0:\n",
    "            cards = [PlayingCard(rank,suit) for rank in PlayingCard.valid_rank for suit in PlayingCard.valid_suit]\n",
    "        else:\n",
    "            cards = [PlayingCard(rank,suit) for rank in PlayingCard.valid_rank]\n",
    "\n",
    "        # Shuffle the deck of cards\n",
    "        self.cards = cards\n",
    "        self.shuffle_deck()\n",
    "\n",
    "    def shuffle_deck(self):\n",
    "        \"\"\" Randomly changes the order cards in the deck using the 'random' Library.\"\"\"\n",
    "        random.shuffle(self.cards)\n",
    "        \n",
    "    def deal_card(self, card_count):\n",
    "        \"\"\" Takes a value 'card_count' for the number of cards to deal. Removes the first 'card_count' number of cards from\n",
    "          the deck and returns them as a list. Lets the user know if there are not sufficient cards to deal the 'card_count'amount.\"\"\"\n",
    "\n",
    "        if len(self.cards) < card_count:\n",
    "            return f'Cannot deal {card_count} cards. The deck only has {len(self.cards)} cards left!'\n",
    "        else: \n",
    "            return[self.cards.pop(0) for i in range(card_count)] #returns the top 'card_count' number of cards"
   ]
  },
  {
   "cell_type": "markdown",
   "metadata": {},
   "source": [
    "## Testing Program"
   ]
  },
  {
   "cell_type": "code",
   "execution_count": 6,
   "metadata": {},
   "outputs": [
    {
     "name": "stdout",
     "output_type": "stream",
     "text": [
      "A of ♠\n"
     ]
    }
   ],
   "source": [
    "card1 = PlayingCard(\"A\", \"♠\")\n",
    "print(card1)"
   ]
  },
  {
   "cell_type": "code",
   "execution_count": 4,
   "metadata": {},
   "outputs": [
    {
     "name": "stdout",
     "output_type": "stream",
     "text": [
      "[5 of ♦, 7 of ♣, 10 of ♥, 2 of ♠, 3 of ♥, J of ♦, 4 of ♥, 5 of ♣, Q of ♥, 8 of ♦, 2 of ♣, 3 of ♣, 8 of ♣, 4 of ♦, Q of ♦, 6 of ♥, 8 of ♠, 9 of ♥, 7 of ♠, 6 of ♦, A of ♦, 4 of ♣, 3 of ♦, 7 of ♥, 6 of ♠, 8 of ♥, J of ♠, 5 of ♥, A of ♥, 2 of ♦, 5 of ♠, J of ♣, 10 of ♦, 10 of ♣, 10 of ♠, K of ♥, Q of ♠, K of ♠, Q of ♣, A of ♠, 9 of ♣, 7 of ♦, 4 of ♠, J of ♥, 3 of ♠, 9 of ♦, 2 of ♥, 6 of ♣, K of ♦, A of ♣, K of ♣, 9 of ♠]\n"
     ]
    }
   ],
   "source": [
    "deck1 = Deck()\n",
    "print(deck1.cards)"
   ]
  },
  {
   "cell_type": "code",
   "execution_count": 7,
   "metadata": {},
   "outputs": [
    {
     "data": {
      "text/plain": [
       "[9 of ♠,\n",
       " J of ♠,\n",
       " Q of ♠,\n",
       " 10 of ♠,\n",
       " A of ♠,\n",
       " 7 of ♠,\n",
       " 2 of ♠,\n",
       " 5 of ♠,\n",
       " K of ♠,\n",
       " 4 of ♠,\n",
       " 3 of ♠,\n",
       " 8 of ♠,\n",
       " 6 of ♠]"
      ]
     },
     "execution_count": 7,
     "metadata": {},
     "output_type": "execute_result"
    }
   ],
   "source": [
    "deck2 = Deck('♠')\n",
    "deck2.shuffle_deck()\n",
    "deck2.cards"
   ]
  },
  {
   "cell_type": "code",
   "execution_count": 8,
   "metadata": {},
   "outputs": [
    {
     "data": {
      "text/plain": [
       "[9 of ♠, J of ♠, Q of ♠, 10 of ♠, A of ♠, 7 of ♠, 2 of ♠]"
      ]
     },
     "execution_count": 8,
     "metadata": {},
     "output_type": "execute_result"
    }
   ],
   "source": [
    "hand = deck2.deal_card(7)\n",
    "hand"
   ]
  },
  {
   "cell_type": "code",
   "execution_count": 9,
   "metadata": {},
   "outputs": [
    {
     "data": {
      "text/plain": [
       "'Cannot deal 7 cards. The deck only has 6 cards left!'"
      ]
     },
     "execution_count": 9,
     "metadata": {},
     "output_type": "execute_result"
    }
   ],
   "source": [
    "deck2.deal_card(7)"
   ]
  },
  {
   "cell_type": "code",
   "execution_count": 5,
   "metadata": {},
   "outputs": [
    {
     "ename": "TypeError",
     "evalue": "Invalid rank!",
     "output_type": "error",
     "traceback": [
      "\u001b[0;31m---------------------------------------------------------------------------\u001b[0m",
      "\u001b[0;31mTypeError\u001b[0m                                 Traceback (most recent call last)",
      "Cell \u001b[0;32mIn[5], line 1\u001b[0m\n\u001b[0;32m----> 1\u001b[0m card2 \u001b[38;5;241m=\u001b[39m PlayingCard(\u001b[38;5;124m\"\u001b[39m\u001b[38;5;124m15\u001b[39m\u001b[38;5;124m\"\u001b[39m, \u001b[38;5;124m\"\u001b[39m\u001b[38;5;124m♠\u001b[39m\u001b[38;5;124m\"\u001b[39m)\n\u001b[1;32m      2\u001b[0m \u001b[38;5;28mprint\u001b[39m(card2)\n",
      "Cell \u001b[0;32mIn[1], line 18\u001b[0m, in \u001b[0;36mPlayingCard.__init__\u001b[0;34m(self, rank, suit)\u001b[0m\n\u001b[1;32m     16\u001b[0m \u001b[38;5;66;03m# Checking to make sure the given rank and suit are valid\u001b[39;00m\n\u001b[1;32m     17\u001b[0m \u001b[38;5;28;01mif\u001b[39;00m rank \u001b[38;5;129;01mnot\u001b[39;00m \u001b[38;5;129;01min\u001b[39;00m \u001b[38;5;28mself\u001b[39m\u001b[38;5;241m.\u001b[39mvalid_rank:\n\u001b[0;32m---> 18\u001b[0m     \u001b[38;5;28;01mraise\u001b[39;00m \u001b[38;5;167;01mTypeError\u001b[39;00m( \u001b[38;5;124m\"\u001b[39m\u001b[38;5;124mInvalid rank!\u001b[39m\u001b[38;5;124m\"\u001b[39m)\n\u001b[1;32m     19\u001b[0m \u001b[38;5;28;01mif\u001b[39;00m suit \u001b[38;5;129;01mnot\u001b[39;00m \u001b[38;5;129;01min\u001b[39;00m \u001b[38;5;28mself\u001b[39m\u001b[38;5;241m.\u001b[39mvalid_suit:\n\u001b[1;32m     20\u001b[0m     \u001b[38;5;28;01mraise\u001b[39;00m \u001b[38;5;167;01mTypeError\u001b[39;00m(\u001b[38;5;124m\"\u001b[39m\u001b[38;5;124mInvalid suit!\u001b[39m\u001b[38;5;124m\"\u001b[39m)\n",
      "\u001b[0;31mTypeError\u001b[0m: Invalid rank!"
     ]
    }
   ],
   "source": [
    "card2 = PlayingCard(\"15\", \"♠\")\n",
    "print(card2)"
   ]
  },
  {
   "cell_type": "code",
   "execution_count": 3,
   "metadata": {},
   "outputs": [
    {
     "ename": "TypeError",
     "evalue": "Invalid suit!",
     "output_type": "error",
     "traceback": [
      "\u001b[0;31m---------------------------------------------------------------------------\u001b[0m",
      "\u001b[0;31mTypeError\u001b[0m                                 Traceback (most recent call last)",
      "Cell \u001b[0;32mIn[3], line 1\u001b[0m\n\u001b[0;32m----> 1\u001b[0m card2 \u001b[38;5;241m=\u001b[39m PlayingCard(\u001b[38;5;124m\"\u001b[39m\u001b[38;5;124m10\u001b[39m\u001b[38;5;124m\"\u001b[39m, \u001b[38;5;124m\"\u001b[39m\u001b[38;5;124mbunnies\u001b[39m\u001b[38;5;124m\"\u001b[39m)\n\u001b[1;32m      2\u001b[0m \u001b[38;5;28mprint\u001b[39m(card2)\n",
      "Cell \u001b[0;32mIn[1], line 20\u001b[0m, in \u001b[0;36mPlayingCard.__init__\u001b[0;34m(self, rank, suit)\u001b[0m\n\u001b[1;32m     18\u001b[0m     \u001b[38;5;28;01mraise\u001b[39;00m \u001b[38;5;167;01mTypeError\u001b[39;00m( \u001b[38;5;124m\"\u001b[39m\u001b[38;5;124mInvalid rank!\u001b[39m\u001b[38;5;124m\"\u001b[39m)\n\u001b[1;32m     19\u001b[0m \u001b[38;5;28;01mif\u001b[39;00m suit \u001b[38;5;129;01mnot\u001b[39;00m \u001b[38;5;129;01min\u001b[39;00m \u001b[38;5;28mself\u001b[39m\u001b[38;5;241m.\u001b[39mvalid_suit:\n\u001b[0;32m---> 20\u001b[0m     \u001b[38;5;28;01mraise\u001b[39;00m \u001b[38;5;167;01mTypeError\u001b[39;00m(\u001b[38;5;124m\"\u001b[39m\u001b[38;5;124mInvalid suit!\u001b[39m\u001b[38;5;124m\"\u001b[39m)\n",
      "\u001b[0;31mTypeError\u001b[0m: Invalid suit!"
     ]
    }
   ],
   "source": [
    "card2 = PlayingCard(\"10\", \"bunnies\")\n",
    "print(card2)"
   ]
  },
  {
   "cell_type": "code",
   "execution_count": null,
   "metadata": {},
   "outputs": [],
   "source": []
  }
 ],
 "metadata": {
  "kernelspec": {
   "display_name": "data200_sp24",
   "language": "python",
   "name": "python3"
  },
  "language_info": {
   "codemirror_mode": {
    "name": "ipython",
    "version": 3
   },
   "file_extension": ".py",
   "mimetype": "text/x-python",
   "name": "python",
   "nbconvert_exporter": "python",
   "pygments_lexer": "ipython3",
   "version": "3.11.7"
  }
 },
 "nbformat": 4,
 "nbformat_minor": 2
}
